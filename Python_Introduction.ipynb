{
  "nbformat": 4,
  "nbformat_minor": 0,
  "metadata": {
    "colab": {
      "provenance": [],
      "authorship_tag": "ABX9TyN+moksv8M0yNQGO3t/0mdH",
      "include_colab_link": true
    },
    "kernelspec": {
      "name": "python3",
      "display_name": "Python 3"
    },
    "language_info": {
      "name": "python"
    }
  },
  "cells": [
    {
      "cell_type": "markdown",
      "metadata": {
        "id": "view-in-github",
        "colab_type": "text"
      },
      "source": [
        "<a href=\"https://colab.research.google.com/github/Dhakcin-123/python_c1/blob/main/Python_Introduction.ipynb\" target=\"_parent\"><img src=\"https://colab.research.google.com/assets/colab-badge.svg\" alt=\"Open In Colab\"/></a>"
      ]
    },
    {
      "cell_type": "code",
      "execution_count": 6,
      "metadata": {
        "colab": {
          "base_uri": "https://localhost:8080/"
        },
        "id": "rdBsLhN5mpEs",
        "outputId": "20226d00-5a01-4937-c279-4d4183302a92"
      },
      "outputs": [
        {
          "output_type": "execute_result",
          "data": {
            "text/plain": [
              "float"
            ]
          },
          "metadata": {},
          "execution_count": 6
        }
      ],
      "source": [
        "hello = \"string\"\n",
        "number = 16.4687\n",
        "type (number)\n"
      ]
    },
    {
      "cell_type": "code",
      "source": [
        "num2 = 10\n",
        "num1 = 9\n",
        "\n",
        "numadd = num2+num1\n",
        "numsub = num2-num1\n",
        "nummul = num2/num1\n",
        "numdiv = num2*num1\n",
        "print (numadd)\n",
        "print (numsub)\n",
        "print (nummul)\n",
        "print (numdiv)"
      ],
      "metadata": {
        "colab": {
          "base_uri": "https://localhost:8080/"
        },
        "id": "7Z4RQBF8nlaF",
        "outputId": "d5da1f00-94f0-4e5a-d1b9-3880c26edb10"
      },
      "execution_count": 8,
      "outputs": [
        {
          "output_type": "stream",
          "name": "stdout",
          "text": [
            "19\n",
            "1\n",
            "1.1111111111111112\n",
            "90\n"
          ]
        }
      ]
    },
    {
      "cell_type": "code",
      "source": [
        "num2 = int(input(\"enter a number: \"))\n",
        "num1 = int(input(\"enter a number: \"))\n",
        "\n",
        "print(num2+num1)\n",
        "print(num2-num1)\n",
        "print(num2*num1)\n",
        "print(num2/num1)"
      ],
      "metadata": {
        "colab": {
          "base_uri": "https://localhost:8080/"
        },
        "id": "OlDucD1ypy_J",
        "outputId": "5a5425df-0c10-496d-a4bd-091a4bec2cf8"
      },
      "execution_count": 12,
      "outputs": [
        {
          "output_type": "stream",
          "name": "stdout",
          "text": [
            "enter a number: 10\n",
            "enter a number: 9\n",
            "19\n",
            "1\n",
            "90\n",
            "1.1111111111111112\n"
          ]
        }
      ]
    },
    {
      "cell_type": "code",
      "source": [
        "height = float(input(\"What is the perpendicular height of the triangle: \"))\n",
        "width = float(input(\"What is the width of the triangle: \"))\n",
        "\n",
        "area = height*width\n",
        "area2 = area/2\n",
        "print(area2)"
      ],
      "metadata": {
        "colab": {
          "base_uri": "https://localhost:8080/"
        },
        "id": "bBeKwOl-qWqn",
        "outputId": "a4b4f6b0-a39a-41a7-c9fd-ca858c532eb9"
      },
      "execution_count": 14,
      "outputs": [
        {
          "output_type": "stream",
          "name": "stdout",
          "text": [
            "What is the perpendicular height of the triangle: 3\n",
            "What is the width of the triangle: 4\n",
            "6.0\n"
          ]
        }
      ]
    },
    {
      "cell_type": "code",
      "source": [
        "a = float(input(\"What was the inital amount: \"))\n",
        "b = float(input(\"How long did you invest it for: \"))\n",
        "c = float(input(\"What is the interest rate: \"))\n",
        "\n",
        "d = (a*b*c)/100\n",
        "print(d)"
      ],
      "metadata": {
        "colab": {
          "base_uri": "https://localhost:8080/"
        },
        "id": "gWk6b9FOrM_f",
        "outputId": "25753796-5c9c-4a63-9d47-07716c5ebabb"
      },
      "execution_count": 3,
      "outputs": [
        {
          "output_type": "stream",
          "name": "stdout",
          "text": [
            "What was the inital amount: 3000000\n",
            "How long did you invest it for: 2\n",
            "What is the interest rate: 76\n",
            "4560000.0\n"
          ]
        }
      ]
    },
    {
      "cell_type": "code",
      "source": [
        "def simple_interest(a,b,c):\n",
        "  a = float(input(\"What was the inital amount: \"))\n",
        "  b = float(input(\"How long did you invest it for: \"))\n",
        "  c = float(input(\"What is the interest rate: \"))\n",
        "\n",
        "  d = (a*b*c)/100\n",
        "  print(d)\n",
        "simple_interest(a,b,c)"
      ],
      "metadata": {
        "colab": {
          "base_uri": "https://localhost:8080/"
        },
        "id": "_zJ3XYUps-nF",
        "outputId": "426f8277-4b7b-43f5-9dd9-9b40e7b4a053"
      },
      "execution_count": 4,
      "outputs": [
        {
          "output_type": "stream",
          "name": "stdout",
          "text": [
            "What was the inital amount: 56\n",
            "How long did you invest it for: 7\n",
            "What is the interest rate: 50\n",
            "196.0\n"
          ]
        }
      ]
    },
    {
      "cell_type": "markdown",
      "source": [
        "hello"
      ],
      "metadata": {
        "id": "JiyIJIwXnE8B"
      }
    }
  ]
}